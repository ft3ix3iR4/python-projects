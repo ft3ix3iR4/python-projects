{
  "nbformat": 4,
  "nbformat_minor": 0,
  "metadata": {
    "colab": {
      "name": "Untitled0.ipynb",
      "provenance": [],
      "authorship_tag": "ABX9TyMUWKVvk0si7jlNFIE5wHmm",
      "include_colab_link": true
    },
    "kernelspec": {
      "name": "python3",
      "display_name": "Python 3"
    }
  },
  "cells": [
    {
      "cell_type": "markdown",
      "metadata": {
        "id": "view-in-github",
        "colab_type": "text"
      },
      "source": [
        "<a href=\"https://colab.research.google.com/github/ft3ix3iR4/python-projects/blob/main/Line_Equation.ipynb\" target=\"_parent\"><img src=\"https://colab.research.google.com/assets/colab-badge.svg\" alt=\"Open In Colab\"/></a>"
      ]
    },
    {
      "cell_type": "code",
      "metadata": {
        "id": "jMs4s1LHK3fn",
        "outputId": "8f933255-6844-4c6a-9d1f-6259fc3771d8",
        "colab": {
          "base_uri": "https://localhost:8080/",
          "height": 92
        }
      },
      "source": [
        "x1 = float(input(\"value of first x: \"))\n",
        "y1 = float(input(\"value of first y: \"))\n",
        "x2 = float(input(\"value of second x: \"))\n",
        "y2 = float(input(\"value of second y: \"))"
      ],
      "execution_count": 33,
      "outputs": [
        {
          "output_type": "stream",
          "text": [
            "value of first x: 1\n",
            "value of first y: 9\n",
            "value of second x: 3\n",
            "value of second y: 13\n"
          ],
          "name": "stdout"
        }
      ]
    },
    {
      "cell_type": "code",
      "metadata": {
        "id": "XAp1dWmCUoU3",
        "outputId": "0cc2efec-59ea-4d1b-8e92-244d40e70c2c",
        "colab": {
          "base_uri": "https://localhost:8080/",
          "height": 36
        }
      },
      "source": [
        "slope = (y2-y1)/(x2-x1)\n",
        "print(slope)"
      ],
      "execution_count": 34,
      "outputs": [
        {
          "output_type": "stream",
          "text": [
            "2.0\n"
          ],
          "name": "stdout"
        }
      ]
    },
    {
      "cell_type": "code",
      "metadata": {
        "id": "7nm3XmsjWIK4",
        "outputId": "55ac4e84-55a7-4a8a-d51b-a419a7829c04",
        "colab": {
          "base_uri": "https://localhost:8080/",
          "height": 36
        }
      },
      "source": [
        "yint = y1 - slope*x1\n",
        "print('The equation of your line is y = {}x + {}'.format(slope,yint))"
      ],
      "execution_count": 35,
      "outputs": [
        {
          "output_type": "stream",
          "text": [
            "The equation of your line is y = 2.0x + 7.0\n"
          ],
          "name": "stdout"
        }
      ]
    }
  ]
}